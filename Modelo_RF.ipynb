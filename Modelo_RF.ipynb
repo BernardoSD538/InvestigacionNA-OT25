{
  "nbformat": 4,
  "nbformat_minor": 0,
  "metadata": {
    "colab": {
      "provenance": []
    },
    "kernelspec": {
      "name": "python3",
      "display_name": "Python 3"
    },
    "language_info": {
      "name": "python"
    }
  },
  "cells": [
    {
      "cell_type": "code",
      "execution_count": null,
      "metadata": {
        "id": "Ew7QZTbiF4u2",
        "colab": {
          "base_uri": "https://localhost:8080/"
        },
        "outputId": "3c521a4f-110a-43a4-b709-0594fbbaa398"
      },
      "outputs": [
        {
          "output_type": "stream",
          "name": "stdout",
          "text": [
            "Drive already mounted at /content/drive; to attempt to forcibly remount, call drive.mount(\"/content/drive\", force_remount=True).\n"
          ]
        }
      ],
      "source": [
        "from google.colab import drive\n",
        "drive.mount('/content/drive')"
      ]
    },
    {
      "cell_type": "code",
      "source": [
        "\n",
        "import matplotlib.pyplot as plt\n",
        "import pandas as pd\n",
        "\n",
        "# Cargar la primera hoja (Informe alumnos)\n",
        "file_path1 = '/content/drive/MyDrive/Datos_train.csv'\n",
        "file_path2 = '/content/drive/MyDrive/Datos_test.csv'\n",
        "\n",
        "Train = pd.read_csv(file_path1)\n",
        "Test = pd.read_csv(file_path2)\n"
      ],
      "metadata": {
        "id": "zcIOeefkGGuj"
      },
      "execution_count": null,
      "outputs": []
    },
    {
      "cell_type": "code",
      "source": [
        "X_train = Train.drop('Baja General', axis=1)\n",
        "y_train = Train['Baja General']\n",
        "\n",
        "X_test = Test.drop('Baja General', axis=1)\n",
        "y_test = Test['Baja General']\n"
      ],
      "metadata": {
        "id": "7147rM_oHHkr"
      },
      "execution_count": null,
      "outputs": []
    },
    {
      "cell_type": "code",
      "source": [
        "from sklearn.preprocessing import OneHotEncoder\n",
        "\n",
        "# Definir columnas categóricas\n",
        "cat_features = X_train.select_dtypes(include=['object']).columns\n",
        "\n",
        "# Crear codificador\n",
        "ohe = OneHotEncoder(handle_unknown='ignore', sparse_output=False)\n",
        "\n",
        "# Ajustar con train y transformar ambos\n",
        "X_train_encoded = ohe.fit_transform(X_train[cat_features])\n",
        "X_test_encoded  = ohe.transform(X_test[cat_features])\n",
        "\n",
        "# Convertir a DataFrame con nombres de columnas\n",
        "X_train_encoded = pd.DataFrame(X_train_encoded, columns=ohe.get_feature_names_out(cat_features), index=X_train.index)\n",
        "X_test_encoded  = pd.DataFrame(X_test_encoded, columns=ohe.get_feature_names_out(cat_features), index=X_test.index)\n",
        "\n",
        "# Concatenar con las variables numéricas originales\n",
        "X_train_final = pd.concat([X_train.drop(columns=cat_features), X_train_encoded], axis=1)\n",
        "X_test_final  = pd.concat([X_test.drop(columns=cat_features), X_test_encoded], axis=1)\n"
      ],
      "metadata": {
        "id": "FeWwaGu1KFCs"
      },
      "execution_count": null,
      "outputs": []
    },
    {
      "cell_type": "code",
      "source": [
        "from sklearn.ensemble import RandomForestClassifier\n",
        "from sklearn.metrics import accuracy_score\n",
        "\n",
        "\n",
        "model = RandomForestClassifier(n_estimators=100, random_state=42)\n",
        "model.fit(X_train_final, y_train)\n",
        "\n",
        "\n",
        "y_pred = model.predict(X_test_final)\n",
        "accuracy = accuracy_score(y_test, y_pred)\n",
        "print(f\"Accuracy: {accuracy}\")"
      ],
      "metadata": {
        "id": "yKiu9c5kI7dy",
        "colab": {
          "base_uri": "https://localhost:8080/"
        },
        "outputId": "48cf120b-bcbd-4b4c-af67-2e54dbae412e"
      },
      "execution_count": null,
      "outputs": [
        {
          "output_type": "stream",
          "name": "stdout",
          "text": [
            "Accuracy: 0.8496503496503497\n"
          ]
        }
      ]
    }
  ]
}